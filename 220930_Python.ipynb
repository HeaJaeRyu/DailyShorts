{
 "cells": [
  {
   "cell_type": "markdown",
   "id": "ee454f5f",
   "metadata": {},
   "source": [
    "# Daily 220939 Friday"
   ]
  },
  {
   "cell_type": "markdown",
   "id": "6434bdcf",
   "metadata": {},
   "source": [
    "## Python String Methods"
   ]
  },
  {
   "cell_type": "markdown",
   "id": "e8521607",
   "metadata": {},
   "source": [
    "instagram @python.learning"
   ]
  },
  {
   "cell_type": "code",
   "execution_count": 5,
   "id": "ccf441f5",
   "metadata": {},
   "outputs": [
    {
     "data": {
      "text/plain": [
       "'Hello world'"
      ]
     },
     "execution_count": 5,
     "metadata": {},
     "output_type": "execute_result"
    }
   ],
   "source": [
    "\"hello world\".capitalize()"
   ]
  },
  {
   "cell_type": "code",
   "execution_count": 7,
   "id": "b5b9060f",
   "metadata": {},
   "outputs": [
    {
     "data": {
      "text/plain": [
       "False"
      ]
     },
     "execution_count": 7,
     "metadata": {},
     "output_type": "execute_result"
    }
   ],
   "source": [
    "\"hello world\".isalpha()"
   ]
  },
  {
   "cell_type": "code",
   "execution_count": 8,
   "id": "f7e42af9",
   "metadata": {},
   "outputs": [
    {
     "data": {
      "text/plain": [
       "False"
      ]
     },
     "execution_count": 8,
     "metadata": {},
     "output_type": "execute_result"
    }
   ],
   "source": [
    "\"안녕하세요.\".isalpha()"
   ]
  },
  {
   "cell_type": "code",
   "execution_count": 9,
   "id": "435e584d",
   "metadata": {},
   "outputs": [
    {
     "data": {
      "text/plain": [
       "True"
      ]
     },
     "execution_count": 9,
     "metadata": {},
     "output_type": "execute_result"
    }
   ],
   "source": [
    "\"123456\".isnumeric()"
   ]
  },
  {
   "cell_type": "code",
   "execution_count": 10,
   "id": "96785b5f",
   "metadata": {},
   "outputs": [
    {
     "ename": "SyntaxError",
     "evalue": "invalid syntax (2629900374.py, line 1)",
     "output_type": "error",
     "traceback": [
      "\u001b[0;36m  File \u001b[0;32m\"/var/folders/xj/22mfrh9s5tl3njwb72lkys780000gn/T/ipykernel_24208/2629900374.py\"\u001b[0;36m, line \u001b[0;32m1\u001b[0m\n\u001b[0;31m    123456.isnumeric()\u001b[0m\n\u001b[0m           ^\u001b[0m\n\u001b[0;31mSyntaxError\u001b[0m\u001b[0;31m:\u001b[0m invalid syntax\n"
     ]
    }
   ],
   "source": [
    "123456.isnumeric()"
   ]
  },
  {
   "cell_type": "code",
   "execution_count": 11,
   "id": "aa6a9445",
   "metadata": {},
   "outputs": [
    {
     "data": {
      "text/plain": [
       "False"
      ]
     },
     "execution_count": 11,
     "metadata": {},
     "output_type": "execute_result"
    }
   ],
   "source": [
    "\"hello world\".isupper()"
   ]
  },
  {
   "cell_type": "code",
   "execution_count": 13,
   "id": "c4e2238a",
   "metadata": {},
   "outputs": [
    {
     "data": {
      "text/plain": [
       "True"
      ]
     },
     "execution_count": 13,
     "metadata": {},
     "output_type": "execute_result"
    }
   ],
   "source": [
    "\"hello world\".islower()"
   ]
  },
  {
   "cell_type": "code",
   "execution_count": 14,
   "id": "2a992dfd",
   "metadata": {},
   "outputs": [
    {
     "data": {
      "text/plain": [
       "['Hi', 'Alex']"
      ]
     },
     "execution_count": 14,
     "metadata": {},
     "output_type": "execute_result"
    }
   ],
   "source": [
    "\"Hi Alex\".split()"
   ]
  },
  {
   "cell_type": "code",
   "execution_count": 16,
   "id": "a162e6ed",
   "metadata": {},
   "outputs": [
    {
     "data": {
      "text/plain": [
       "'Hello World'"
      ]
     },
     "execution_count": 16,
     "metadata": {},
     "output_type": "execute_result"
    }
   ],
   "source": [
    "\"hello world\".title()"
   ]
  },
  {
   "cell_type": "code",
   "execution_count": 17,
   "id": "1060d54f",
   "metadata": {},
   "outputs": [
    {
     "data": {
      "text/plain": [
       "'Hello'"
      ]
     },
     "execution_count": 17,
     "metadata": {},
     "output_type": "execute_result"
    }
   ],
   "source": [
    "\"     Hello    \".strip()"
   ]
  },
  {
   "cell_type": "code",
   "execution_count": 18,
   "id": "2cae0467",
   "metadata": {},
   "outputs": [
    {
     "data": {
      "text/plain": [
       "'Hello'"
      ]
     },
     "execution_count": 18,
     "metadata": {},
     "output_type": "execute_result"
    }
   ],
   "source": [
    "\"Yello\".replace('Y','H')"
   ]
  },
  {
   "cell_type": "markdown",
   "id": "f54125cb",
   "metadata": {},
   "source": [
    "## Floyd's Triangle in Python"
   ]
  },
  {
   "cell_type": "markdown",
   "id": "0ac3bb09",
   "metadata": {},
   "source": [
    "instagram @pythonclcoding"
   ]
  },
  {
   "cell_type": "markdown",
   "id": "6c8ee7ad",
   "metadata": {},
   "source": [
    "**print** or **print()** makes a different in the output!"
   ]
  },
  {
   "cell_type": "code",
   "execution_count": 2,
   "id": "2be57e85",
   "metadata": {
    "scrolled": true
   },
   "outputs": [
    {
     "name": "stdout",
     "output_type": "stream",
     "text": [
      "Enter the # of rows: 6\n",
      "1 2 3 4 5 6 7 8 9 10 11 12 13 14 15 16 17 18 19 20 21 "
     ]
    }
   ],
   "source": [
    "print(\"Enter the # of rows: \", end =\"\")\n",
    "\n",
    "row = int(input())\n",
    "num = 1\n",
    "for i in range(row):\n",
    "    for j in range(i+1):\n",
    "        print(num, end = \" \")\n",
    "        num += 1\n",
    "    print"
   ]
  },
  {
   "cell_type": "markdown",
   "id": "8279c866",
   "metadata": {},
   "source": [
    "Original Code"
   ]
  },
  {
   "cell_type": "code",
   "execution_count": 3,
   "id": "4962d81c",
   "metadata": {},
   "outputs": [
    {
     "name": "stdout",
     "output_type": "stream",
     "text": [
      "Enter the # of rows: 6\n",
      "1 \n",
      "2 3 \n",
      "4 5 6 \n",
      "7 8 9 10 \n",
      "11 12 13 14 15 \n",
      "16 17 18 19 20 21 \n"
     ]
    }
   ],
   "source": [
    "print(\"Enter the # of rows: \", end =\"\")\n",
    "\n",
    "row = int(input())\n",
    "num = 1\n",
    "for i in range(row):\n",
    "    for j in range(i+1):\n",
    "        print(num, end = \" \")\n",
    "        num += 1\n",
    "    print()"
   ]
  },
  {
   "cell_type": "markdown",
   "id": "02497e49",
   "metadata": {},
   "source": [
    "Modified Code"
   ]
  },
  {
   "cell_type": "code",
   "execution_count": 4,
   "id": "724e8813",
   "metadata": {},
   "outputs": [
    {
     "name": "stdout",
     "output_type": "stream",
     "text": [
      "Enter the # of rows: 6\n",
      "1 \n",
      "2 3 \n",
      "4 5 6 \n",
      "7 8 9 10 \n",
      "11 12 13 14 15 \n",
      "16 17 18 19 20 21 \n"
     ]
    }
   ],
   "source": [
    "row = int(input(\"Enter the # of rows: \"))\n",
    "num = 1 \n",
    "for i in range(row):\n",
    "    for j in range(i+1):\n",
    "        print(num, end = \" \")\n",
    "        num +=1\n",
    "    print()  \n"
   ]
  }
 ],
 "metadata": {
  "kernelspec": {
   "display_name": "Python 3 (ipykernel)",
   "language": "python",
   "name": "python3"
  },
  "language_info": {
   "codemirror_mode": {
    "name": "ipython",
    "version": 3
   },
   "file_extension": ".py",
   "mimetype": "text/x-python",
   "name": "python",
   "nbconvert_exporter": "python",
   "pygments_lexer": "ipython3",
   "version": "3.8.12"
  }
 },
 "nbformat": 4,
 "nbformat_minor": 5
}
