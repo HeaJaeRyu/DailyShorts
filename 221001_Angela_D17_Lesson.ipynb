{
 "cells": [
  {
   "cell_type": "markdown",
   "id": "f05335a8",
   "metadata": {},
   "source": [
    "# 100 Days of Code \n",
    "## Day 17 Lesson\n",
    "### Angela Yu at Udemy "
   ]
  },
  {
   "cell_type": "markdown",
   "id": "728b9160",
   "metadata": {},
   "source": [
    "Class is a Blueprint"
   ]
  },
  {
   "cell_type": "code",
   "execution_count": 1,
   "id": "e84d8437",
   "metadata": {},
   "outputs": [],
   "source": [
    "def function ():\n",
    "    pass"
   ]
  },
  {
   "cell_type": "code",
   "execution_count": 3,
   "id": "c28509fb",
   "metadata": {},
   "outputs": [],
   "source": [
    "class User:\n",
    "    def __init__(self,user_id, username):\n",
    "        self.id = user_id\n",
    "        self.username = username\n",
    "        self.followers = 0 #instagram\n",
    "        self.following = 0\n",
    "    \n",
    "    def follow(self,user):\n",
    "        user.followers += 1\n",
    "        self.following += 1"
   ]
  },
  {
   "cell_type": "markdown",
   "id": "8c54cd02",
   "metadata": {},
   "source": [
    "|PascalCase | camelCase | snake_case|\n",
    "| --- | --- | --- |\n",
    "|**Class name** | not used well | everything else|"
   ]
  },
  {
   "cell_type": "markdown",
   "id": "3d70b831",
   "metadata": {},
   "source": [
    "*attribute* : variable that is associated with an object <br>\n",
    "*methods* : what object does "
   ]
  },
  {
   "cell_type": "code",
   "execution_count": 4,
   "id": "7545c00d",
   "metadata": {},
   "outputs": [],
   "source": [
    "user_1 = User(\"001\", \"angela\")\n",
    "user_2 = User(\"002\", \"jack\")"
   ]
  },
  {
   "cell_type": "code",
   "execution_count": 5,
   "id": "28b76c78",
   "metadata": {},
   "outputs": [],
   "source": [
    "user_1.follow(user_2)"
   ]
  },
  {
   "cell_type": "code",
   "execution_count": 6,
   "id": "ab304b20",
   "metadata": {},
   "outputs": [
    {
     "name": "stdout",
     "output_type": "stream",
     "text": [
      "0\n",
      "1\n",
      "1\n",
      "0\n"
     ]
    }
   ],
   "source": [
    "print(user_1.followers)\n",
    "print(user_1.following)\n",
    "\n",
    "print(user_2.followers)\n",
    "print(user_2.following)"
   ]
  },
  {
   "cell_type": "markdown",
   "id": "bee80e7d",
   "metadata": {},
   "source": [
    "## Day 17 Project: Quiz Game True/False"
   ]
  },
  {
   "cell_type": "markdown",
   "id": "7e52083f",
   "metadata": {},
   "source": [
    "https://replit.com/@appbrewery/quiz-game-start"
   ]
  },
  {
   "cell_type": "markdown",
   "id": "0ba853d9",
   "metadata": {},
   "source": [
    "https://replit.com/@appbrewery/quiz-game-final"
   ]
  }
 ],
 "metadata": {
  "kernelspec": {
   "display_name": "Python 3 (ipykernel)",
   "language": "python",
   "name": "python3"
  },
  "language_info": {
   "codemirror_mode": {
    "name": "ipython",
    "version": 3
   },
   "file_extension": ".py",
   "mimetype": "text/x-python",
   "name": "python",
   "nbconvert_exporter": "python",
   "pygments_lexer": "ipython3",
   "version": "3.8.12"
  }
 },
 "nbformat": 4,
 "nbformat_minor": 5
}
