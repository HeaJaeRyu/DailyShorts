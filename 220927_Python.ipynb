{
 "cells": [
  {
   "cell_type": "markdown",
   "id": "a81bbef6",
   "metadata": {},
   "source": [
    "# Daily 220927 Tuesday"
   ]
  },
  {
   "cell_type": "markdown",
   "id": "2fc437c2",
   "metadata": {},
   "source": [
    "## print(f\"txt {var}\")"
   ]
  },
  {
   "cell_type": "markdown",
   "id": "5e715bc9",
   "metadata": {},
   "source": [
    "__printf__ function\n",
    "\n",
    "instragram @python.learning "
   ]
  },
  {
   "cell_type": "code",
   "execution_count": 1,
   "id": "0b1737f5",
   "metadata": {},
   "outputs": [],
   "source": [
    "counter = 5 "
   ]
  },
  {
   "cell_type": "markdown",
   "id": "10a8741c",
   "metadata": {},
   "source": [
    "### Not Recommended"
   ]
  },
  {
   "cell_type": "code",
   "execution_count": 2,
   "id": "8123874c",
   "metadata": {},
   "outputs": [
    {
     "name": "stdout",
     "output_type": "stream",
     "text": [
      "this is counter 5\n"
     ]
    }
   ],
   "source": [
    "print(\"this is counter\", 5)"
   ]
  },
  {
   "cell_type": "code",
   "execution_count": 4,
   "id": "82153205",
   "metadata": {},
   "outputs": [
    {
     "name": "stdout",
     "output_type": "stream",
     "text": [
      "this is counter 5\n"
     ]
    }
   ],
   "source": [
    "print(\"this is counter \" + str(5))"
   ]
  },
  {
   "cell_type": "code",
   "execution_count": 6,
   "id": "1041caee",
   "metadata": {},
   "outputs": [
    {
     "name": "stdout",
     "output_type": "stream",
     "text": [
      "this is counter 5\n"
     ]
    }
   ],
   "source": [
    "print(\"this is counter\", counter)"
   ]
  },
  {
   "cell_type": "markdown",
   "id": "acf95f60",
   "metadata": {},
   "source": [
    "### Recommended"
   ]
  },
  {
   "cell_type": "code",
   "execution_count": 7,
   "id": "bf68b6bc",
   "metadata": {},
   "outputs": [
    {
     "name": "stdout",
     "output_type": "stream",
     "text": [
      "this is counter 5\n"
     ]
    }
   ],
   "source": [
    "print(f\"this is counter {counter}\")"
   ]
  },
  {
   "cell_type": "code",
   "execution_count": 9,
   "id": "25602aeb",
   "metadata": {
    "scrolled": true
   },
   "outputs": [
    {
     "name": "stdout",
     "output_type": "stream",
     "text": [
      "this is counter 5\n"
     ]
    }
   ],
   "source": [
    "print(\"this is counter {0}\".format(counter))"
   ]
  },
  {
   "cell_type": "markdown",
   "id": "ae5887bb",
   "metadata": {},
   "source": [
    "------------------"
   ]
  },
  {
   "cell_type": "markdown",
   "id": "a50b3197",
   "metadata": {},
   "source": [
    "## Calendar in Python "
   ]
  },
  {
   "cell_type": "code",
   "execution_count": 13,
   "id": "6be22db5",
   "metadata": {},
   "outputs": [],
   "source": [
    "import calendar"
   ]
  },
  {
   "cell_type": "code",
   "execution_count": 14,
   "id": "8e6f889f",
   "metadata": {},
   "outputs": [
    {
     "name": "stdout",
     "output_type": "stream",
     "text": [
      "   September 2022\n",
      "Mo Tu We Th Fr Sa Su\n",
      "          1  2  3  4\n",
      " 5  6  7  8  9 10 11\n",
      "12 13 14 15 16 17 18\n",
      "19 20 21 22 23 24 25\n",
      "26 27 28 29 30\n",
      "\n"
     ]
    }
   ],
   "source": [
    "print(calendar.month(2022,9))"
   ]
  },
  {
   "cell_type": "code",
   "execution_count": null,
   "id": "bbf2b9ec",
   "metadata": {},
   "outputs": [],
   "source": []
  },
  {
   "cell_type": "code",
   "execution_count": null,
   "id": "bc65e5b7",
   "metadata": {},
   "outputs": [],
   "source": []
  },
  {
   "cell_type": "code",
   "execution_count": null,
   "id": "e5f3f698",
   "metadata": {},
   "outputs": [],
   "source": []
  }
 ],
 "metadata": {
  "kernelspec": {
   "display_name": "Python 3 (ipykernel)",
   "language": "python",
   "name": "python3"
  },
  "language_info": {
   "codemirror_mode": {
    "name": "ipython",
    "version": 3
   },
   "file_extension": ".py",
   "mimetype": "text/x-python",
   "name": "python",
   "nbconvert_exporter": "python",
   "pygments_lexer": "ipython3",
   "version": "3.8.12"
  }
 },
 "nbformat": 4,
 "nbformat_minor": 5
}
